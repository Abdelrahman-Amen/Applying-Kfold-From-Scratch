{
  "nbformat": 4,
  "nbformat_minor": 0,
  "metadata": {
    "colab": {
      "provenance": []
    },
    "kernelspec": {
      "name": "python3",
      "display_name": "Python 3"
    },
    "language_info": {
      "name": "python"
    }
  },
  "cells": [
    {
      "cell_type": "markdown",
      "source": [
        "Import Libraries"
      ],
      "metadata": {
        "id": "WWcvY_QGX8iK"
      }
    },
    {
      "cell_type": "code",
      "execution_count": null,
      "metadata": {
        "id": "EYFTak1rc9wO"
      },
      "outputs": [],
      "source": [
        "import numpy as np\n",
        "import pandas as pd\n",
        "import matplotlib.pyplot as plt\n",
        "import warnings\n",
        "warnings.filterwarnings('ignore')"
      ]
    },
    {
      "cell_type": "markdown",
      "source": [
        "Load Data"
      ],
      "metadata": {
        "id": "ebAoCuWWYIkX"
      }
    },
    {
      "cell_type": "code",
      "source": [
        "import tensorflow as tf"
      ],
      "metadata": {
        "id": "qdmnRt8delWi"
      },
      "execution_count": null,
      "outputs": []
    },
    {
      "cell_type": "code",
      "source": [
        "#loading the data\n",
        "(x_train, y_train), (x_test, y_test) = tf.keras.datasets.mnist.load_data()"
      ],
      "metadata": {
        "id": "46cHfQigelaN",
        "colab": {
          "base_uri": "https://localhost:8080/"
        },
        "outputId": "54961637-b30e-448c-d12e-1a0a202b2355"
      },
      "execution_count": null,
      "outputs": [
        {
          "output_type": "stream",
          "name": "stdout",
          "text": [
            "Downloading data from https://storage.googleapis.com/tensorflow/tf-keras-datasets/mnist.npz\n",
            "11490434/11490434 [==============================] - 0s 0us/step\n"
          ]
        }
      ]
    },
    {
      "cell_type": "markdown",
      "source": [
        "Subset Class 0 and Class 1 from Data"
      ],
      "metadata": {
        "id": "jdMtzUZ3YM2Q"
      }
    },
    {
      "cell_type": "code",
      "source": [
        "# subsetting for classes 0,1 only\n",
        "\n",
        "x_train = x_train[np.logical_or(y_train == 0, y_train == 1)]\n",
        "y_train = y_train[np.logical_or(y_train == 0, y_train == 1)]\n",
        "\n",
        "x_test = x_test[np.logical_or(y_test == 0, y_test == 1)]\n",
        "y_test = y_test[np.logical_or(y_test == 0, y_test == 1)]\n"
      ],
      "metadata": {
        "id": "lMr5rsm4elf1"
      },
      "execution_count": null,
      "outputs": []
    },
    {
      "cell_type": "code",
      "source": [
        "np.unique(y_train), np.unique(y_test)"
      ],
      "metadata": {
        "colab": {
          "base_uri": "https://localhost:8080/"
        },
        "id": "52rSiMkmeljR",
        "outputId": "f9b9f7ff-1a36-4985-d845-2bbf0c9c5aee"
      },
      "execution_count": null,
      "outputs": [
        {
          "output_type": "execute_result",
          "data": {
            "text/plain": [
              "(array([0, 1], dtype=uint8), array([0, 1], dtype=uint8))"
            ]
          },
          "metadata": {},
          "execution_count": 5
        }
      ]
    },
    {
      "cell_type": "code",
      "source": [
        "x_train=x_train.reshape(len(x_train),-1)"
      ],
      "metadata": {
        "id": "mg30IAC0elmK"
      },
      "execution_count": null,
      "outputs": []
    },
    {
      "cell_type": "code",
      "source": [
        "x_test=x_test.reshape(len(x_test),-1)"
      ],
      "metadata": {
        "id": "zetxuipUelpd"
      },
      "execution_count": null,
      "outputs": []
    },
    {
      "cell_type": "code",
      "source": [
        "x_train.shape[0]"
      ],
      "metadata": {
        "colab": {
          "base_uri": "https://localhost:8080/"
        },
        "id": "vAxq1Mu6elsj",
        "outputId": "16a10b3c-37da-4919-a03d-ec190ddf1588"
      },
      "execution_count": null,
      "outputs": [
        {
          "output_type": "execute_result",
          "data": {
            "text/plain": [
              "12665"
            ]
          },
          "metadata": {},
          "execution_count": 8
        }
      ]
    },
    {
      "cell_type": "markdown",
      "source": [
        "Standardize Data"
      ],
      "metadata": {
        "id": "Mpz5Ozh1YXAZ"
      }
    },
    {
      "cell_type": "code",
      "source": [
        "x_train=(x_train-np.mean(x_train,axis=0))/(np.std(x_train,axis=0)+10e-16)\n",
        "x_test=(x_test-np.mean(x_test,axis=0))/(np.std(x_test,axis=0)+10e-16)"
      ],
      "metadata": {
        "id": "4-pgpnEHelv2"
      },
      "execution_count": null,
      "outputs": []
    },
    {
      "cell_type": "markdown",
      "source": [
        "Sigmoid Function"
      ],
      "metadata": {
        "id": "cF55B7ieYaFm"
      }
    },
    {
      "cell_type": "code",
      "source": [
        "def sigmoid(z):\n",
        "    return 1.0 / (1.0 + np.exp(-z))"
      ],
      "metadata": {
        "id": "IfNoXa1BelzW"
      },
      "execution_count": null,
      "outputs": []
    },
    {
      "cell_type": "markdown",
      "source": [
        "Cost Function"
      ],
      "metadata": {
        "id": "WkozoS83YdPx"
      }
    },
    {
      "cell_type": "code",
      "source": [
        "def cost_function(phiz, y_train):\n",
        "    return (y_train * np.log(phiz) - (1 - y_train) * np.log(1 - phiz)).mean()"
      ],
      "metadata": {
        "id": "3dmukzMuel2l"
      },
      "execution_count": null,
      "outputs": []
    },
    {
      "cell_type": "code",
      "source": [
        "cv=10\n",
        "epochs=1000\n",
        "eta=[0.001,0.01,0.1]\n",
        "tolerance = 10e-8\n",
        "Accuracy=0\n",
        "split=((10/100)*x_train.shape[0])\n",
        "split=int(split)\n",
        "learning_rate=[]\n",
        "avg_accuracy=[]\n",
        "weights=[]\n",
        "bais=[]"
      ],
      "metadata": {
        "id": "vtENtmGLel62"
      },
      "execution_count": null,
      "outputs": []
    },
    {
      "cell_type": "markdown",
      "source": [
        "Gradient Descent Function"
      ],
      "metadata": {
        "id": "XeEkvbt9YjAH"
      }
    },
    {
      "cell_type": "code",
      "source": [
        "def Gradient_Descent(X_train,Y_train,w,b,epochs,eta):\n",
        "    for i in range (epochs):\n",
        "          z=np.dot(x_train,w.T)+b\n",
        "          phiZ = sigmoid(z)\n",
        "          Cost[i] =cost_function(phiZ, y_train)\n",
        "          w = w - (eta * np.dot((phiZ - y_train).T , x_train)) /len(x_train)\n",
        "          b = b - eta * np.mean(phiZ - y_train)\n",
        "          if (Cost[i]<tolerance):\n",
        "            break;\n",
        "    return w,b,eta  "
      ],
      "metadata": {
        "id": "pxXNJ42ael9d"
      },
      "execution_count": null,
      "outputs": []
    },
    {
      "cell_type": "markdown",
      "source": [
        "Applying Kfold usning (10 Kfold)"
      ],
      "metadata": {
        "id": "Y3IEHgV0YqI8"
      }
    },
    {
      "cell_type": "code",
      "source": [
        "for i in range(len(eta)):\n",
        "  for j in range(cv):\n",
        "    if(j==0):\n",
        "      M=0\n",
        "      N=split\n",
        "    w=np.random.rand(784)\n",
        "    b=np.random.rand(1)\n",
        "    Cost=np.zeros(epochs)\n",
        "    X_train=np.delete(x_train,slice(M,N),0)\n",
        "    Y_train=np.delete(y_train,slice(M,N),0)\n",
        "    w,b,eta[i]=Gradient_Descent(X_train,Y_train,w,b,epochs,eta[i])\n",
        "    x_validation=x_train[M:N,:]\n",
        "    y_validation=y_train[M:N]\n",
        "    z=np.dot(x_validation,w.T)+b\n",
        "    y_pred =sigmoid(z)\n",
        "    for k in range(len(y_pred)):\n",
        "      if (y_pred[k]>0.5):\n",
        "        y_pred[k]=1\n",
        "      else:\n",
        "       y_pred[k]=0 \n",
        "    accuracy=np.mean(np.equal(y_pred, y_validation))*100\n",
        "    print(M,N)\n",
        "    print(eta[i])\n",
        "    M+=split\n",
        "    N+=split\n",
        "    Accuracy=Accuracy+accuracy\n",
        "    #print(accuracy)\n",
        "  weights.append(w)\n",
        "  bais.append(b)\n",
        "  print('this is-------------------------',i+1,'-------------------------iteration')\n",
        "  Averege_Accuracy=(Accuracy/cv)\n",
        "  learning_rate.append(eta[i])\n",
        "  avg_accuracy.append(Averege_Accuracy)\n",
        "  print('average accuracy =',Averege_Accuracy)\n",
        "  Accuracy=0"
      ],
      "metadata": {
        "colab": {
          "base_uri": "https://localhost:8080/"
        },
        "id": "AaKGouwNemAb",
        "outputId": "c144266d-a333-4a1a-8b0c-823d03e3a185"
      },
      "execution_count": null,
      "outputs": [
        {
          "output_type": "stream",
          "name": "stdout",
          "text": [
            "0 1266\n",
            "0.001\n",
            "1266 2532\n",
            "0.001\n",
            "2532 3798\n",
            "0.001\n",
            "3798 5064\n",
            "0.001\n",
            "5064 6330\n",
            "0.001\n",
            "6330 7596\n",
            "0.001\n",
            "7596 8862\n",
            "0.001\n",
            "8862 10128\n",
            "0.001\n",
            "10128 11394\n",
            "0.001\n",
            "11394 12660\n",
            "0.001\n",
            "this is------------------------- 1 -------------------------iteration\n",
            "average accuracy = 66.11374407582939\n",
            "0 1266\n",
            "0.01\n",
            "1266 2532\n",
            "0.01\n",
            "2532 3798\n",
            "0.01\n",
            "3798 5064\n",
            "0.01\n",
            "5064 6330\n",
            "0.01\n",
            "6330 7596\n",
            "0.01\n",
            "7596 8862\n",
            "0.01\n",
            "8862 10128\n",
            "0.01\n",
            "10128 11394\n",
            "0.01\n",
            "11394 12660\n",
            "0.01\n",
            "this is------------------------- 2 -------------------------iteration\n",
            "average accuracy = 98.60189573459715\n",
            "0 1266\n",
            "0.1\n",
            "1266 2532\n",
            "0.1\n",
            "2532 3798\n",
            "0.1\n",
            "3798 5064\n",
            "0.1\n",
            "5064 6330\n",
            "0.1\n",
            "6330 7596\n",
            "0.1\n",
            "7596 8862\n",
            "0.1\n",
            "8862 10128\n",
            "0.1\n",
            "10128 11394\n",
            "0.1\n",
            "11394 12660\n",
            "0.1\n",
            "this is------------------------- 3 -------------------------iteration\n",
            "average accuracy = 99.85781990521326\n"
          ]
        }
      ]
    },
    {
      "cell_type": "code",
      "source": [
        "learning_rate"
      ],
      "metadata": {
        "colab": {
          "base_uri": "https://localhost:8080/"
        },
        "id": "Z-90rSl2emDm",
        "outputId": "04e9d0b5-cfae-4614-b019-a0a79be19690"
      },
      "execution_count": null,
      "outputs": [
        {
          "output_type": "execute_result",
          "data": {
            "text/plain": [
              "[0.001, 0.01, 0.1]"
            ]
          },
          "metadata": {},
          "execution_count": 15
        }
      ]
    },
    {
      "cell_type": "code",
      "source": [
        "avg_accuracy"
      ],
      "metadata": {
        "colab": {
          "base_uri": "https://localhost:8080/"
        },
        "id": "M-QOBGqQemGh",
        "outputId": "aa4a0532-f380-44ec-bcb3-569c8c75d7a8"
      },
      "execution_count": null,
      "outputs": [
        {
          "output_type": "execute_result",
          "data": {
            "text/plain": [
              "[66.11374407582939, 98.60189573459715, 99.85781990521326]"
            ]
          },
          "metadata": {},
          "execution_count": 16
        }
      ]
    },
    {
      "cell_type": "code",
      "source": [
        "learning_rate=pd.DataFrame(learning_rate,columns=['learning_Rate'])\n",
        "avg_accuracy=pd.DataFrame(avg_accuracy,columns=['Avarege_Accuracy'])"
      ],
      "metadata": {
        "id": "tp-X_Z50emJ2"
      },
      "execution_count": null,
      "outputs": []
    },
    {
      "cell_type": "code",
      "source": [
        "Table=pd.concat([learning_rate,avg_accuracy],axis=1)"
      ],
      "metadata": {
        "id": "zC04EK1uemOG"
      },
      "execution_count": null,
      "outputs": []
    },
    {
      "cell_type": "markdown",
      "source": [
        "difference Accuracy for different Learning rate."
      ],
      "metadata": {
        "id": "PIQOkERhY2f-"
      }
    },
    {
      "cell_type": "code",
      "source": [
        "Table"
      ],
      "metadata": {
        "colab": {
          "base_uri": "https://localhost:8080/",
          "height": 143
        },
        "id": "BlfQoz3pemSS",
        "outputId": "deba2fa2-9c10-4b16-f6c4-dec08bc5b84a"
      },
      "execution_count": null,
      "outputs": [
        {
          "output_type": "execute_result",
          "data": {
            "text/plain": [
              "   learning_Rate  Avarege_Accuracy\n",
              "0          0.001         66.113744\n",
              "1          0.010         98.601896\n",
              "2          0.100         99.857820"
            ],
            "text/html": [
              "\n",
              "  <div id=\"df-e3c9623c-a8dd-43c4-b92b-7aff82724b44\">\n",
              "    <div class=\"colab-df-container\">\n",
              "      <div>\n",
              "<style scoped>\n",
              "    .dataframe tbody tr th:only-of-type {\n",
              "        vertical-align: middle;\n",
              "    }\n",
              "\n",
              "    .dataframe tbody tr th {\n",
              "        vertical-align: top;\n",
              "    }\n",
              "\n",
              "    .dataframe thead th {\n",
              "        text-align: right;\n",
              "    }\n",
              "</style>\n",
              "<table border=\"1\" class=\"dataframe\">\n",
              "  <thead>\n",
              "    <tr style=\"text-align: right;\">\n",
              "      <th></th>\n",
              "      <th>learning_Rate</th>\n",
              "      <th>Avarege_Accuracy</th>\n",
              "    </tr>\n",
              "  </thead>\n",
              "  <tbody>\n",
              "    <tr>\n",
              "      <th>0</th>\n",
              "      <td>0.001</td>\n",
              "      <td>66.113744</td>\n",
              "    </tr>\n",
              "    <tr>\n",
              "      <th>1</th>\n",
              "      <td>0.010</td>\n",
              "      <td>98.601896</td>\n",
              "    </tr>\n",
              "    <tr>\n",
              "      <th>2</th>\n",
              "      <td>0.100</td>\n",
              "      <td>99.857820</td>\n",
              "    </tr>\n",
              "  </tbody>\n",
              "</table>\n",
              "</div>\n",
              "      <button class=\"colab-df-convert\" onclick=\"convertToInteractive('df-e3c9623c-a8dd-43c4-b92b-7aff82724b44')\"\n",
              "              title=\"Convert this dataframe to an interactive table.\"\n",
              "              style=\"display:none;\">\n",
              "        \n",
              "  <svg xmlns=\"http://www.w3.org/2000/svg\" height=\"24px\"viewBox=\"0 0 24 24\"\n",
              "       width=\"24px\">\n",
              "    <path d=\"M0 0h24v24H0V0z\" fill=\"none\"/>\n",
              "    <path d=\"M18.56 5.44l.94 2.06.94-2.06 2.06-.94-2.06-.94-.94-2.06-.94 2.06-2.06.94zm-11 1L8.5 8.5l.94-2.06 2.06-.94-2.06-.94L8.5 2.5l-.94 2.06-2.06.94zm10 10l.94 2.06.94-2.06 2.06-.94-2.06-.94-.94-2.06-.94 2.06-2.06.94z\"/><path d=\"M17.41 7.96l-1.37-1.37c-.4-.4-.92-.59-1.43-.59-.52 0-1.04.2-1.43.59L10.3 9.45l-7.72 7.72c-.78.78-.78 2.05 0 2.83L4 21.41c.39.39.9.59 1.41.59.51 0 1.02-.2 1.41-.59l7.78-7.78 2.81-2.81c.8-.78.8-2.07 0-2.86zM5.41 20L4 18.59l7.72-7.72 1.47 1.35L5.41 20z\"/>\n",
              "  </svg>\n",
              "      </button>\n",
              "      \n",
              "  <style>\n",
              "    .colab-df-container {\n",
              "      display:flex;\n",
              "      flex-wrap:wrap;\n",
              "      gap: 12px;\n",
              "    }\n",
              "\n",
              "    .colab-df-convert {\n",
              "      background-color: #E8F0FE;\n",
              "      border: none;\n",
              "      border-radius: 50%;\n",
              "      cursor: pointer;\n",
              "      display: none;\n",
              "      fill: #1967D2;\n",
              "      height: 32px;\n",
              "      padding: 0 0 0 0;\n",
              "      width: 32px;\n",
              "    }\n",
              "\n",
              "    .colab-df-convert:hover {\n",
              "      background-color: #E2EBFA;\n",
              "      box-shadow: 0px 1px 2px rgba(60, 64, 67, 0.3), 0px 1px 3px 1px rgba(60, 64, 67, 0.15);\n",
              "      fill: #174EA6;\n",
              "    }\n",
              "\n",
              "    [theme=dark] .colab-df-convert {\n",
              "      background-color: #3B4455;\n",
              "      fill: #D2E3FC;\n",
              "    }\n",
              "\n",
              "    [theme=dark] .colab-df-convert:hover {\n",
              "      background-color: #434B5C;\n",
              "      box-shadow: 0px 1px 3px 1px rgba(0, 0, 0, 0.15);\n",
              "      filter: drop-shadow(0px 1px 2px rgba(0, 0, 0, 0.3));\n",
              "      fill: #FFFFFF;\n",
              "    }\n",
              "  </style>\n",
              "\n",
              "      <script>\n",
              "        const buttonEl =\n",
              "          document.querySelector('#df-e3c9623c-a8dd-43c4-b92b-7aff82724b44 button.colab-df-convert');\n",
              "        buttonEl.style.display =\n",
              "          google.colab.kernel.accessAllowed ? 'block' : 'none';\n",
              "\n",
              "        async function convertToInteractive(key) {\n",
              "          const element = document.querySelector('#df-e3c9623c-a8dd-43c4-b92b-7aff82724b44');\n",
              "          const dataTable =\n",
              "            await google.colab.kernel.invokeFunction('convertToInteractive',\n",
              "                                                     [key], {});\n",
              "          if (!dataTable) return;\n",
              "\n",
              "          const docLinkHtml = 'Like what you see? Visit the ' +\n",
              "            '<a target=\"_blank\" href=https://colab.research.google.com/notebooks/data_table.ipynb>data table notebook</a>'\n",
              "            + ' to learn more about interactive tables.';\n",
              "          element.innerHTML = '';\n",
              "          dataTable['output_type'] = 'display_data';\n",
              "          await google.colab.output.renderOutput(dataTable, element);\n",
              "          const docLink = document.createElement('div');\n",
              "          docLink.innerHTML = docLinkHtml;\n",
              "          element.appendChild(docLink);\n",
              "        }\n",
              "      </script>\n",
              "    </div>\n",
              "  </div>\n",
              "  "
            ]
          },
          "metadata": {},
          "execution_count": 19
        }
      ]
    },
    {
      "cell_type": "markdown",
      "source": [
        "Calcuate Accuracy for Test Data"
      ],
      "metadata": {
        "id": "kDVYFl5bY757"
      }
    },
    {
      "cell_type": "code",
      "source": [
        "# Test with same data and look at the accuracy\n",
        "z=np.dot(x_test,w.T)+b\n",
        "y_pred =sigmoid(z)\n",
        "for i in range(len(y_pred)):\n",
        "  if (y_pred[i]>0.5):\n",
        "     y_pred[i]=1\n",
        "  else:\n",
        "     y_pred[i]=0\n",
        "  \n",
        "    \n",
        "accuracy=np.mean(np.equal(y_pred, y_test))*100"
      ],
      "metadata": {
        "id": "priVxtgoemWE"
      },
      "execution_count": null,
      "outputs": []
    },
    {
      "cell_type": "code",
      "source": [
        "accuracy"
      ],
      "metadata": {
        "colab": {
          "base_uri": "https://localhost:8080/"
        },
        "id": "xGMzaYBnemZo",
        "outputId": "81f31c68-78c3-4fca-9bf1-0e8b39ca93e3"
      },
      "execution_count": null,
      "outputs": [
        {
          "output_type": "execute_result",
          "data": {
            "text/plain": [
              "99.8581560283688"
            ]
          },
          "metadata": {},
          "execution_count": 21
        }
      ]
    }
  ]
}